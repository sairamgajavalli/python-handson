{
 "cells": [
  {
   "cell_type": "code",
   "execution_count": 1,
   "metadata": {},
   "outputs": [
    {
     "name": "stdout",
     "output_type": "stream",
     "text": [
      "Enter name1: ram\n",
      "Enter name2: naveen\n",
      "Enter name3: suchi\n",
      "Hi  suchi   naveen   and ram\n"
     ]
    }
   ],
   "source": [
    "#Day-1\n",
    "#Sec-A\n",
    "#print three names\n",
    "name1=input('Enter name1: ')\n",
    "name2=input('Enter name2: ')\n",
    "name3=input('Enter name3: ')\n",
    "print('Hi','',name3,' ',name2,' ','and',name1)\n",
    "\n",
    "#M-2\n",
    "x=['Alice','Bob','Carol']\n",
    "y=''\n",
    "for i in x:\n",
    "    y=i+' '+y\n",
    "print('Hi', y,end=' ')"
   ]
  },
  {
   "cell_type": "code",
   "execution_count": 2,
   "metadata": {},
   "outputs": [
    {
     "name": "stdout",
     "output_type": "stream",
     "text": [
      "enter number a: 55\n",
      "enter number b: 21\n",
      "enter number c: 47\n",
      "first operation is  1042\n",
      "second operation is  1202\n",
      "Third operation is  49.61904761904762\n",
      "Fourth operation is  60\n"
     ]
    }
   ],
   "source": [
    "#operations\n",
    "a=int(input('enter number a: ' ))\n",
    "b=int(input('enter number b: '))\n",
    "c=int(input('enter number c: ' ))\n",
    "print('first operation is ',a+b*c)\n",
    "print('second operation is ',a*b+c)\n",
    "print('Third operation is ',c+a/b)\n",
    "print('Fourth operation is ',a%b+c)\n"
   ]
  },
  {
   "cell_type": "code",
   "execution_count": 3,
   "metadata": {},
   "outputs": [
    {
     "name": "stdout",
     "output_type": "stream",
     "text": [
      "enter number a: 12.5\n",
      "enter number b: 14.3363635\n",
      "enter number c: 989.21452\n",
      "first operation is  14194.23893819802\n",
      "second operation is  1168.41906375\n",
      "Third operation is  990.0864286956745\n",
      "Fourth operation is  1001.71452\n"
     ]
    }
   ],
   "source": [
    "a=float(input('enter number a: ' ))\n",
    "b=float(input('enter number b: '))\n",
    "c=float(input('enter number c: ' ))\n",
    "print('first operation is ',a+b*c)\n",
    "print('second operation is ',a*b+c)\n",
    "print('Third operation is ',c+a/b)\n",
    "print('Fourth operation is ',a%b+c)"
   ]
  },
  {
   "cell_type": "code",
   "execution_count": 7,
   "metadata": {},
   "outputs": [
    {
     "name": "stdout",
     "output_type": "stream",
     "text": [
      "enter year2019\n",
      "Non leap year\n"
     ]
    }
   ],
   "source": [
    "sec-B\n",
    "leapyear\n",
    "year=int(input('enter year'))\n",
    "if year%4==0:\n",
    "    if year%100==0:\n",
    "        if year%400==0:\n",
    "            print('leap year')\n",
    "        else:\n",
    "            print('non leap year')\n",
    "    else:\n",
    "        print('Leap year')\n",
    "else:\n",
    "    print('Non leap year')\n",
    "    \n",
    "#M-2\n",
    "if year%4==0 or year%100==0 and year%400==0:\n",
    "    print('Leap year')\n",
    "else:\n",
    "    print('Non leap year')"
   ]
  },
  {
   "cell_type": "code",
   "execution_count": 12,
   "metadata": {},
   "outputs": [
    {
     "name": "stdout",
     "output_type": "stream",
     "text": [
      "enter month: 3\n",
      "enter day5\n",
      "False\n"
     ]
    }
   ],
   "source": [
    "#Spring season\n",
    "m=int(input('enter month: '))\n",
    "d=int(input('enter day'))\n",
    "if m==3 and d>=20 or m==6 and d<=20:\n",
    "    print(True,'Spring season')\n",
    "elif m>3 and m<6 and d>0:\n",
    "    print(True,'Spring season')\n",
    "else:\n",
    "    print(False)"
   ]
  },
  {
   "cell_type": "code",
   "execution_count": 13,
   "metadata": {},
   "outputs": [
    {
     "name": "stdout",
     "output_type": "stream",
     "text": [
      "enter value of a:41\n",
      "enter value of b:6\n",
      "enter value of c:15\n",
      "Root1 of X: (-0.07317073170731704+0.6004162743946913j)\n",
      "Root2 of X: (-0.07317073170731711-0.6004162743946913j)\n"
     ]
    }
   ],
   "source": [
    "#Roots of qrdt eqn\n",
    "a=int(input('enter value of a:'))\n",
    "b=int(input('enter value of b:'))\n",
    "c=int(input('enter value of c:'))\n",
    "s=((b*b)-(4*a*c))\n",
    "e=(s)**(1/2)\n",
    "Root1=((-b+e)/(2*a))\n",
    "Root2=((-b-e)/(2*a))\n",
    "print('Root1 of X:',Root1)\n",
    "print('Root2 of X:',Root2)"
   ]
  },
  {
   "cell_type": "code",
   "execution_count": 14,
   "metadata": {},
   "outputs": [
    {
     "name": "stdout",
     "output_type": "stream",
     "text": [
      "enter value of x: 41\n",
      "enter value of y: 51\n",
      "65.43699259593154\n"
     ]
    }
   ],
   "source": [
    "#Eqldn distnc\n",
    "x=int(input('enter value of x: '))\n",
    "y=int(input('enter value of y: '))\n",
    "from math import *\n",
    "X=pow(x,2)\n",
    "Y=pow(y,2)\n",
    "x1=(X+Y)\n",
    "D=sqrt(x1)\n",
    "print(D)"
   ]
  },
  {
   "cell_type": "code",
   "execution_count": 15,
   "metadata": {},
   "outputs": [
    {
     "name": "stdout",
     "output_type": "stream",
     "text": [
      "4\n"
     ]
    }
   ],
   "source": [
    "#Sum of two dice\n",
    "import random\n",
    "x=random.randrange(1,6)\n",
    "y=random.randrange(1,6)\n",
    "sum=x+y\n",
    "print(sum)"
   ]
  },
  {
   "cell_type": "code",
   "execution_count": 16,
   "metadata": {},
   "outputs": [
    {
     "name": "stdout",
     "output_type": "stream",
     "text": [
      "[0.8247172754967276, 0.07480880458876693, 0.11547267226952584, 0.3512716474828501, 0.956969241171077]\n",
      "Min value is 0.07480880458876693\n",
      "Max value is 0.956969241171077\n",
      "Avg is 0.46464792820178946\n"
     ]
    }
   ],
   "source": [
    "#Day2\n",
    "#Sec-A\n",
    "import random\n",
    "from statistics import *\n",
    "lst=[]\n",
    "for i in range(0,5):\n",
    "    x=random.uniform(0,1)\n",
    "    lst.append(x)\n",
    "print(lst)\n",
    "print('Min value is',min(lst))\n",
    "print('Max value is',max(lst))\n",
    "print('Avg is',mean(lst))"
   ]
  },
  {
   "cell_type": "code",
   "execution_count": 2,
   "metadata": {},
   "outputs": [
    {
     "name": "stdout",
     "output_type": "stream",
     "text": [
      "enter temperature:45\n",
      "enter speed:85\n",
      "wind chill: 30.09352608336077\n"
     ]
    }
   ],
   "source": [
    "#Windchill\n",
    "t=int(input('enter temperature:'))\n",
    "v=int(input('enter speed:'))\n",
    "if t>50 and v>120 or v<3:\n",
    "    print('Condition not satisfied')\n",
    "else:\n",
    "    a=pow(v,0.16)\n",
    "    w=(35.74+0.6215*t+(0.4275*t-35.75)*a)\n",
    "    print('wind chill:',w)"
   ]
  },
  {
   "cell_type": "code",
   "execution_count": 3,
   "metadata": {},
   "outputs": [
    {
     "name": "stdout",
     "output_type": "stream",
     "text": [
      "Enter the temperature to convert:51\n",
      "Temperature in farehiet is: 123.8\n",
      "Enter the temperature to convert:21.4\n",
      "Temperature in celsius: -5.88888888888889\n"
     ]
    }
   ],
   "source": [
    "#Temp conv\n",
    "C=float(input('Enter the temperature to convert:'))\n",
    "F=C*1.8+32\n",
    "print('Temperature in farehiet is:',F)\n",
    "f=float(input('Enter the temperature to convert:'))\n",
    "c=(f-32)*(5/9)\n",
    "print('Temperature in celsius:',c)"
   ]
  },
  {
   "cell_type": "code",
   "execution_count": 4,
   "metadata": {},
   "outputs": [
    {
     "name": "stdout",
     "output_type": "stream",
     "text": [
      "enter angle:45\n",
      "Trignometric operation1: 0.8509035245341184\n",
      "Trignometric operation2: 0.5253219888177297\n",
      "Trignometric operation3: 1.6197751905438615\n",
      "Trignometric operation4: 1.0\n",
      "Trignometric operation5: 1.7467135528742547e+19\n",
      "Trignometric operation6: 1.7467135528742547e+19\n"
     ]
    }
   ],
   "source": [
    "#Trignm\n",
    "# 1 Radian=57.29577 degree\n",
    "# 1 degree=0.0175 Radian\n",
    "\n",
    "x=float(input('enter angle:'))\n",
    "import math\n",
    "from math import *\n",
    "value1=sin(x)\n",
    "value2=cos(x)\n",
    "value3=tan(x)\n",
    "value4=tanh(x)\n",
    "value5=sinh(x)\n",
    "value6=cosh(x)\n",
    "print('Trignometric operation1:',value1)\n",
    "print('Trignometric operation2:',value2)\n",
    "print('Trignometric operation3:',value3)\n",
    "print('Trignometric operation4:',value4)\n",
    "print('Trignometric operation5:',value5)\n",
    "print('Trignometric operation6:',value6)"
   ]
  },
  {
   "cell_type": "code",
   "execution_count": 5,
   "metadata": {},
   "outputs": [
    {
     "name": "stdout",
     "output_type": "stream",
     "text": [
      "Number of heads: 10\n",
      "Number of tails: 12\n",
      "probability percentage of heads: 47.61904761904761\n",
      "probability percentage of tails: 57.14285714285714\n"
     ]
    }
   ],
   "source": [
    "#H and T\n",
    "lst=['H','T']\n",
    "import random\n",
    "heads=0\n",
    "tails=0\n",
    "for i in range(22):\n",
    "    n=random.choice(lst)\n",
    "    if n=='H':\n",
    "        heads+=1\n",
    "    else:\n",
    "        tails+=1\n",
    "print('Number of heads:',heads)\n",
    "print('Number of tails:',tails)\n",
    "poh=(heads/i)*100\n",
    "pot=(tails/i)*100\n",
    "print('probability percentage of heads:',poh)\n",
    "print('probability percentage of tails:',pot)"
   ]
  },
  {
   "cell_type": "code",
   "execution_count": 8,
   "metadata": {},
   "outputs": [
    {
     "name": "stdout",
     "output_type": "stream",
     "text": [
      "enter number:5\n",
      "1 2 4 8 16 32 "
     ]
    }
   ],
   "source": [
    "#POWERS OF 2\n",
    "n=int(input('enter number:'))\n",
    "for i in range(n+1):\n",
    "    a=2**i\n",
    "    if a<=2**n:\n",
    "           print(a,end=' ')\n",
    "            \n",
    "    "
   ]
  },
  {
   "cell_type": "code",
   "execution_count": 9,
   "metadata": {},
   "outputs": [
    {
     "name": "stdout",
     "output_type": "stream",
     "text": [
      "Enter number:6\n",
      "nth harmonic number is 2.4499999999999997\n"
     ]
    }
   ],
   "source": [
    "#Harmonic num\n",
    "n=int(input('Enter number:'))\n",
    "sum=1\n",
    "for i in range(2,n+1):\n",
    "    sum+=1/i\n",
    "print(\"nth harmonic number is\",sum)"
   ]
  },
  {
   "cell_type": "code",
   "execution_count": 12,
   "metadata": {},
   "outputs": [
    {
     "name": "stdout",
     "output_type": "stream",
     "text": [
      "Enter month:02\n",
      "Enter date:03\n",
      "enter year:2020\n",
      "1\n"
     ]
    }
   ],
   "source": [
    "#Day of week\n",
    "from math import floor\n",
    "m=int(input('Enter month:'))\n",
    "d=int(input('Enter date:'))\n",
    "y=int(input('enter year:'))\n",
    "Y=y-(14-m)/12\n",
    "x=Y+(Y/4)-(Y/100)+(Y/400)\n",
    "M=m+12*((14-m)/12)-2\n",
    "D=(d+x+(31*M/12))%7\n",
    "print(floor(D))"
   ]
  },
  {
   "cell_type": "code",
   "execution_count": 13,
   "metadata": {},
   "outputs": [
    {
     "name": "stdout",
     "output_type": "stream",
     "text": [
      "Enter principal amount:2100\n",
      "Enter years to pay off:4\n",
      "Enter rate of interest:2\n",
      "Car loan is: 45.559759642613784\n"
     ]
    }
   ],
   "source": [
    "#Car loan\n",
    "P=int(input('Enter principal amount:'))\n",
    "Y=int(input('Enter years to pay off:'))\n",
    "R=float(input('Enter rate of interest:'))\n",
    "n=12*Y\n",
    "r=R/(12*100)\n",
    "payment=(P*r/(1-(1+r)**-n))\n",
    "print('Car loan is:',payment)"
   ]
  },
  {
   "cell_type": "code",
   "execution_count": 1,
   "metadata": {},
   "outputs": [
    {
     "name": "stdout",
     "output_type": "stream",
     "text": [
      "Enter number:5\n",
      "1.118033988749895\n"
     ]
    }
   ],
   "source": [
    "#Newtons method\n",
    "import math\n",
    "from math import *\n",
    "c=int(input('Enter number:'))\n",
    "eps=1e-15\n",
    "t=c\n",
    "#a=fab((t-c/t))\n",
    "while (t-(c/t))>eps*t:\n",
    "    t=((c/t)+t)/2\n",
    "print(t**1/2)"
   ]
  },
  {
   "cell_type": "code",
   "execution_count": 15,
   "metadata": {},
   "outputs": [
    {
     "name": "stdout",
     "output_type": "stream",
     "text": [
      "Enter the value:150\n",
      "Enter the goals260\n",
      "enter trails to perform42\n",
      "27\n",
      "64.28571428571429\n",
      "17659\n"
     ]
    }
   ],
   "source": [
    "#Gambling\n",
    "import random\n",
    "stack=int(input('Enter the value:'))\n",
    "goal=int(input('Enter the goals'))\n",
    "trails=int(input('enter trails to perform'))\n",
    "bet=0\n",
    "wins=0\n",
    "for i in range(trails):\n",
    "    cash=stack\n",
    "    while cash>0 and cash<goal:\n",
    "        bet+=1\n",
    "        if random.randint(0,1)==0:\n",
    "            cash+=1\n",
    "        else:\n",
    "            cash-=1\n",
    "    if cash==goal:\n",
    "        wins+=1\n",
    "        wins_p=(wins/trails)*100\n",
    "        avg_bets=bet//trails\n",
    "print(wins)\n",
    "print(wins_p)\n",
    "print(avg_bets)"
   ]
  },
  {
   "cell_type": "code",
   "execution_count": 16,
   "metadata": {},
   "outputs": [
    {
     "name": "stdout",
     "output_type": "stream",
     "text": [
      "2 3 5 7 11 13 17 19 23 29 31 37 41 43 47 53 59 61 67 71 73 79 83 89 97 "
     ]
    }
   ],
   "source": [
    "#Day-3\n",
    "#Sec-A\n",
    "#pRIME NUM\n",
    "for x in range(2,101):\n",
    "    for i in range(2,x):\n",
    "        if x%i==0:\n",
    "            break\n",
    "    else:\n",
    "        print(x,end=' ')"
   ]
  },
  {
   "cell_type": "code",
   "execution_count": 17,
   "metadata": {},
   "outputs": [
    {
     "name": "stdout",
     "output_type": "stream",
     "text": [
      "Enter the number:21\n",
      "00000000000000000000000000010101"
     ]
    }
   ],
   "source": [
    "#Binary to decimal\n",
    "#Rep of 4-byte\n",
    "n=int(input('Enter the number:'))\n",
    "a=[]\n",
    "while n!=0:\n",
    "    r=n%2\n",
    "    a.append(r)\n",
    "    n=n//2\n",
    "a.reverse()\n",
    "while len(a)<32:\n",
    "    a.insert(0,0)\n",
    "for i in a:\n",
    "    print(i,end='')"
   ]
  },
  {
   "cell_type": "code",
   "execution_count": 18,
   "metadata": {},
   "outputs": [
    {
     "name": "stdout",
     "output_type": "stream",
     "text": [
      "Enter number to convert:100\n",
      "[1, 1, 0, 0, 1, 0, 0]\n",
      "01100100\n",
      "l3: [0, 1, 0, 0, 0, 1, 1, 0]\n",
      "70\n"
     ]
    }
   ],
   "source": [
    "#nibbles\n",
    "n=int(input('Enter number to convert:'))\n",
    "a=[]\n",
    "while n>0:\n",
    "    r=n%2\n",
    "    a.append(r)\n",
    "    n=n//2\n",
    "a.reverse()\n",
    "print(a)\n",
    "while len(a)<8:\n",
    "    a.insert(0,0)\n",
    "for i in a:\n",
    "    print(i,end='')\n",
    "l1=[]\n",
    "l2=[]\n",
    "for i in range(len(a)):\n",
    "    if i<4:\n",
    "        l1.append(a[i])\n",
    "    else:\n",
    "        l2.append(a[i])\n",
    "print()\n",
    "l1,l2=l2,l1\n",
    "l3=l1+l2\n",
    "print(\"l3:\",l3)\n",
    "sum=0\n",
    "l=len(l3)\n",
    "e=l-1\n",
    "for i in l3:\n",
    "    h=2**e\n",
    "    v=i*h\n",
    "    sum+=v\n",
    "    e=e-1\n",
    "print(sum)"
   ]
  },
  {
   "cell_type": "code",
   "execution_count": 2,
   "metadata": {},
   "outputs": [
    {
     "name": "stdout",
     "output_type": "stream",
     "text": [
      "Enter angle:30\n",
      "Enter range of series:6\n",
      "-1.1118842221024858\n",
      "-0.17115052671908826\n"
     ]
    }
   ],
   "source": [
    "#Taylor series\n",
    "import math\n",
    "from math import *\n",
    "sin=0\n",
    "cos=0\n",
    "x=float(input('Enter angle:'))\n",
    "n=int(input('Enter range of series:'))\n",
    "x=x%(2*math.pi)\n",
    "for i in range(n):\n",
    "    sign=(-1)**i\n",
    "    sin=sin+(sign*(x**(2*i+1)))/math.factorial(2*i+1)\n",
    "    cos=cos+(sign*(x**(2*i)))/math.factorial(2*i)\n",
    "print(sin)\n",
    "print(cos)"
   ]
  },
  {
   "cell_type": "code",
   "execution_count": 3,
   "metadata": {},
   "outputs": [
    {
     "name": "stdout",
     "output_type": "stream",
     "text": [
      "Help on built-in function max in module builtins:\n",
      "\n",
      "max(...)\n",
      "    max(iterable, *[, default=obj, key=func]) -> value\n",
      "    max(arg1, arg2, *args, *[, key=func]) -> value\n",
      "    \n",
      "    With a single iterable argument, return its biggest item. The\n",
      "    default keyword-only argument specifies an object to return if\n",
      "    the provided iterable is empty.\n",
      "    With two or more arguments, return the largest argument.\n",
      "\n"
     ]
    }
   ],
   "source": [
    "help(max)"
   ]
  },
  {
   "cell_type": "code",
   "execution_count": 5,
   "metadata": {},
   "outputs": [
    {
     "name": "stdout",
     "output_type": "stream",
     "text": [
      "Enter number of times to roll:10\n",
      "[4, 4, 2, 3, 1, 2, 4, 3, 1, 3]\n"
     ]
    }
   ],
   "source": [
    "#Sec-B\n",
    "#Max for rolling a die\n",
    "import random\n",
    "m=[]\n",
    "n=int(input('Enter number of times to roll:'))\n",
    "for i in range(n):\n",
    "    x=random.randint(1,6)\n",
    "    m.append(x)\n",
    "    #a=max(m,key=count)\n",
    "print(m)\n",
    "#print(a)"
   ]
  },
  {
   "cell_type": "code",
   "execution_count": 20,
   "metadata": {},
   "outputs": [
    {
     "name": "stdout",
     "output_type": "stream",
     "text": [
      "[1, 2, 3, 4, 5, 6, 7, 8, 9, 10, 11, 12, 13, 14, 15, 16, 17, 18, 19, 20, 21, 22, 23, 24, 25, 26, 27, 28, 29, 30, 31, 32, 33, 34, 35, 36, 37, 38, 39, 40, 41, 42, 43, 44, 45, 46, 47, 48, 49, 50, 51, 52, 53, 54, 55, 56, 57, 58, 59, 60, 61, 62, 63, 64, 65, 66, 67, 68, 69, 70, 71, 72, 73, 74, 75, 76, 77, 78, 71, 79, 80, 81, 82, 83, 84, 85, 86, 87, 88, 89, 90, 91, 92, 93, 94, 95, 96, 97, 98, 99]\n",
      "Repeated element: 71\n",
      "length of list: 100\n"
     ]
    }
   ],
   "source": [
    "#Random between 1-100\n",
    "L=[]\n",
    "for i in range(1,100):\n",
    "    L.append(i)\n",
    "import random\n",
    "x=random.randint(0,100)\n",
    "y=random.randint(1,100)\n",
    "L.insert(x,y)\n",
    "print(L)\n",
    "for i in range(len(L)):\n",
    "    for j in range(i+1,len(L)):\n",
    "        if L[i]==L[j]:\n",
    "            print(\"Repeated element:\",L[j])\n",
    "print(\"length of list:\",len(L))\n"
   ]
  },
  {
   "cell_type": "code",
   "execution_count": 6,
   "metadata": {},
   "outputs": [
    {
     "name": "stdout",
     "output_type": "stream",
     "text": [
      "54\n",
      "47\n",
      "3\n",
      "4\n"
     ]
    }
   ],
   "source": [
    "#2and largest\n",
    "L=[2,47,6,1,8,54,9,11,45]\n",
    "largest=L[0]\n",
    "second_largest=None\n",
    "for i in range(1,len(L)):\n",
    "    if L[i]>largest:\n",
    "        second_largest=largest\n",
    "        largest=L[i]\n",
    "    elif second_largest==None or L[i]>second_largest:\n",
    "        second_largest=L[i]\n",
    "print(largest)\n",
    "print(second_largest)    \n",
    "\n",
    "#2Nnd smallest\n",
    "L=[3,4,27,8,54,11,6]\n",
    "smallest=L[0]\n",
    "second_smallest=None\n",
    "for i in range(1,len(L)):\n",
    "    if L[i]<smallest:\n",
    "        second_smallest=smallest\n",
    "        smallest=L[i]\n",
    "    elif second_smallest==None or L[i]<second_smallest:\n",
    "        second_smallest=L[i]\n",
    "print(smallest)\n",
    "print(second_smallest)   \n",
    "\n"
   ]
  },
  {
   "cell_type": "code",
   "execution_count": 1,
   "metadata": {},
   "outputs": [
    {
     "name": "stdout",
     "output_type": "stream",
     "text": [
      "Enter the number:48\n",
      "[2, 2, 2, 2, 3]\n"
     ]
    }
   ],
   "source": [
    "#Prime Factorization\n",
    "n=int(input('Enter the number:'))\n",
    "i=2\n",
    "pf=[]\n",
    "while i*i<=n:\n",
    "    while n>1:\n",
    "        while n%i==0:\n",
    "            pf.append(i)\n",
    "            n=n/i\n",
    "        i+=1\n",
    "print(pf)\n",
    "    "
   ]
  },
  {
   "cell_type": "code",
   "execution_count": 7,
   "metadata": {},
   "outputs": [],
   "source": [
    "class Mathfunction:\n",
    "    \"defines all functions\"\n",
    "    @staticmethod\n",
    "    def harmonicnumber():\n",
    "        n=int(input('Enter number:'))\n",
    "        sum=1\n",
    "        for i in range(2,n+1):\n",
    "            sum+=1/i\n",
    "            print(\"nth harmonic number is\",sum)\n",
    "    @staticmethod\n",
    "    def DecimalToBinary(num):\n",
    "        if num > 0: \n",
    "            DecimalToBinary(num // 2) \n",
    "            print(num % 2, end = '')\n",
    "    @staticmethod\n",
    "    def newtonmethod():\n",
    "        c=int(input(\"c\"))\n",
    "        t=c\n",
    "        e=1e-15\n",
    "        while (t-c/t)>e*t:\n",
    "            t=(c/t+t)/2\n",
    "        print(t)\n",
    "        a=(t)*1/2\n",
    "        print(a)\n",
    "    @staticmethod\n",
    "    def primenum():\n",
    "        a=int(input(\"a\"))\n",
    "        b=int(input(\"b\"))\n",
    "        for n in range(a,b):\n",
    "            for i in range(2,n):\n",
    "                if n%i ==0:\n",
    "                    break\n",
    "            else:\n",
    "                print(n,end=',')\n",
    "    @staticmethod\n",
    "    def facti():\n",
    "        n=int(input(\"enter num\"))\n",
    "        mul=1\n",
    "        for i in range(1,n+1):\n",
    "            mul*=i\n",
    "        print(mul)\n",
    "    @staticmethod\n",
    "    def futurevalue():\n",
    "        C=int(input(\"C\"))\n",
    "        r=int(input(\"r\"))\n",
    "        T=int(input(\"T\"))\n",
    "        a=C*(1+r)**T\n",
    "        print(a)\n",
    "    @staticmethod\n",
    "    def presentvalue():\n",
    "        C=int(input(\"C\"))\n",
    "        r=int(input(\"r\"))\n",
    "        T=int(input(\"T\"))\n",
    "        a=C/(1+r)**T\n",
    "        print(a)\n",
    "    @staticmethod\n",
    "    def lst():\n",
    "        L=[]\n",
    "        l=int(input(\"please enter length of list\"))\n",
    "        for i in range(l):\n",
    "            x=int(input(\"enter values in list\"))\n",
    "            L.append(x)\n",
    "        print(L)\n",
    "        maxi=0\n",
    "        mini=L[0]\n",
    "        for i in range(len(L)):\n",
    "            if maxi<L[i]:\n",
    "                maxi=L[i]\n",
    "            elif mini>L[i]:\n",
    "                mini=L[i]\n",
    "        print(\"max is:\",maxi)\n",
    "        print(\"min is:\",mini)\n",
    "    @staticmethod\n",
    "    def collinear():\n",
    "        x1=int(input('Enter the value:'))\n",
    "        x2=int(input('Enter the value:'))\n",
    "        x3=int(input('Enter the value:'))\n",
    "        y1=int(input('Enter the value:'))\n",
    "        y2=int(input('Enter the value:'))\n",
    "        y3=int(input(\"Enter the value:\"))\n",
    "        slopeAB=(y2-y1)/(x2-x1)\n",
    "        slopeBC=(y3-y2)/(x3-x2)\n",
    "        slopeCA=(y3-y1)/(x3-x1)\n",
    "        det=((x1-x2)-(y2-y3))-((x2-x3)-(y1-y2))\n",
    "        area=(1/2)*det\n",
    "        print('slope of AB:',slopeAB)\n",
    "        print('slope of BC:',slopeBC)\n",
    "        print('slope of CA:',slopeCA)\n",
    "        print('Area of triangle:',area)\n",
    "        if (slopeAB==slopeBC==slopeCA)and (area==0):\n",
    "            print(True,'collinear')\n",
    "        else:\n",
    "            print(False,'Non-colinear')\n",
    "\n",
    "    \n",
    "    "
   ]
  },
  {
   "cell_type": "code",
   "execution_count": 8,
   "metadata": {},
   "outputs": [
    {
     "name": "stdout",
     "output_type": "stream",
     "text": [
      "Enter number:4\n",
      "nth harmonic number is 1.5\n",
      "nth harmonic number is 1.8333333333333333\n",
      "nth harmonic number is 2.083333333333333\n"
     ]
    }
   ],
   "source": [
    "Mathfunction.harmonicnumber()"
   ]
  },
  {
   "cell_type": "code",
   "execution_count": 13,
   "metadata": {},
   "outputs": [
    {
     "name": "stdout",
     "output_type": "stream",
     "text": [
      "c6\n",
      "2.449489742783178\n",
      "1.224744871391589\n"
     ]
    }
   ],
   "source": [
    "Mathfunction.newtonmethod()"
   ]
  },
  {
   "cell_type": "code",
   "execution_count": 15,
   "metadata": {},
   "outputs": [
    {
     "name": "stdout",
     "output_type": "stream",
     "text": [
      "a6\n",
      "b500\n",
      "7,11,13,17,19,23,29,31,37,41,43,47,53,59,61,67,71,73,79,83,89,97,101,103,107,109,113,127,131,137,139,149,151,157,163,167,173,179,181,191,193,197,199,211,223,227,229,233,239,241,251,257,263,269,271,277,281,283,293,307,311,313,317,331,337,347,349,353,359,367,373,379,383,389,397,401,409,419,421,431,433,439,443,449,457,461,463,467,479,487,491,499,"
     ]
    }
   ],
   "source": [
    "Mathfunction.primenum()"
   ]
  },
  {
   "cell_type": "code",
   "execution_count": 16,
   "metadata": {},
   "outputs": [
    {
     "name": "stdout",
     "output_type": "stream",
     "text": [
      "enter num6\n",
      "720\n"
     ]
    }
   ],
   "source": [
    "Mathfunction.facti()"
   ]
  },
  {
   "cell_type": "code",
   "execution_count": 17,
   "metadata": {},
   "outputs": [
    {
     "name": "stdout",
     "output_type": "stream",
     "text": [
      "C6\n",
      "r6\n",
      "T6\n",
      "705894\n"
     ]
    }
   ],
   "source": [
    "Mathfunction.futurevalue()"
   ]
  },
  {
   "cell_type": "code",
   "execution_count": 18,
   "metadata": {},
   "outputs": [
    {
     "name": "stdout",
     "output_type": "stream",
     "text": [
      "C5\n",
      "r5\n",
      "T5\n",
      "0.0006430041152263374\n"
     ]
    }
   ],
   "source": [
    "Mathfunction.presentvalue()\n"
   ]
  },
  {
   "cell_type": "code",
   "execution_count": 19,
   "metadata": {},
   "outputs": [
    {
     "name": "stdout",
     "output_type": "stream",
     "text": [
      "please enter length of list5\n",
      "enter values in list5\n",
      "enter values in list5\n",
      "enter values in list3\n",
      "enter values in list6\n",
      "enter values in list7\n",
      "[5, 5, 3, 6, 7]\n",
      "max is: 7\n",
      "min is: 3\n"
     ]
    }
   ],
   "source": [
    "Mathfunction.lst()"
   ]
  },
  {
   "cell_type": "code",
   "execution_count": 20,
   "metadata": {},
   "outputs": [
    {
     "name": "stdout",
     "output_type": "stream",
     "text": [
      "Enter the value:4\n",
      "Enter the value:7\n",
      "Enter the value:2\n",
      "Enter the value:8\n",
      "Enter the value:2\n",
      "Enter the value:9\n",
      "slope of AB: -2.0\n",
      "slope of BC: -1.4\n",
      "slope of CA: -0.5\n",
      "Area of triangle: 2.5\n",
      "False Non-colinear\n"
     ]
    }
   ],
   "source": [
    "Mathfunction.collinear()"
   ]
  },
  {
   "cell_type": "code",
   "execution_count": null,
   "metadata": {},
   "outputs": [],
   "source": []
  }
 ],
 "metadata": {
  "kernelspec": {
   "display_name": "Python 3",
   "language": "python",
   "name": "python3"
  },
  "language_info": {
   "codemirror_mode": {
    "name": "ipython",
    "version": 3
   },
   "file_extension": ".py",
   "mimetype": "text/x-python",
   "name": "python",
   "nbconvert_exporter": "python",
   "pygments_lexer": "ipython3",
   "version": "3.7.3"
  }
 },
 "nbformat": 4,
 "nbformat_minor": 2
}
